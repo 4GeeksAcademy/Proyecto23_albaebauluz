{
    "cells": [
        {
            "cell_type": "markdown",
            "metadata": {},
            "source": [
                "Proyecto de Series Temporales\n",
                "\n",
                "         Objetivo: Estimar el número de ventas."
            ]
        },
        {
            "cell_type": "code",
            "execution_count": 45,
            "metadata": {},
            "outputs": [
                {
                    "name": "stdout",
                    "output_type": "stream",
                    "text": [
                        "Defaulting to user installation because normal site-packages is not writeable\n",
                        "Requirement already satisfied: missingno in /home/vscode/.local/lib/python3.10/site-packages (0.5.2)\n",
                        "Requirement already satisfied: lazypredict in /home/vscode/.local/lib/python3.10/site-packages (0.2.12)\n",
                        "Requirement already satisfied: numpy in /home/vscode/.local/lib/python3.10/site-packages (from missingno) (2.1.1)\n",
                        "Requirement already satisfied: matplotlib in /home/vscode/.local/lib/python3.10/site-packages (from missingno) (3.9.2)\n",
                        "Requirement already satisfied: scipy in /home/vscode/.local/lib/python3.10/site-packages (from missingno) (1.14.1)\n",
                        "Requirement already satisfied: seaborn in /home/vscode/.local/lib/python3.10/site-packages (from missingno) (0.13.2)\n",
                        "Requirement already satisfied: click in /home/vscode/.local/lib/python3.10/site-packages (from lazypredict) (8.1.7)\n",
                        "Requirement already satisfied: scikit-learn in /home/vscode/.local/lib/python3.10/site-packages (from lazypredict) (1.5.2)\n",
                        "Requirement already satisfied: pandas in /home/vscode/.local/lib/python3.10/site-packages (from lazypredict) (2.2.2)\n",
                        "Requirement already satisfied: tqdm in /home/vscode/.local/lib/python3.10/site-packages (from lazypredict) (4.66.5)\n",
                        "Requirement already satisfied: joblib in /home/vscode/.local/lib/python3.10/site-packages (from lazypredict) (1.4.2)\n",
                        "Requirement already satisfied: lightgbm in /home/vscode/.local/lib/python3.10/site-packages (from lazypredict) (4.5.0)\n",
                        "Requirement already satisfied: xgboost in /home/vscode/.local/lib/python3.10/site-packages (from lazypredict) (2.1.1)\n",
                        "Requirement already satisfied: contourpy>=1.0.1 in /home/vscode/.local/lib/python3.10/site-packages (from matplotlib->missingno) (1.3.0)\n",
                        "Requirement already satisfied: cycler>=0.10 in /home/vscode/.local/lib/python3.10/site-packages (from matplotlib->missingno) (0.12.1)\n",
                        "Requirement already satisfied: fonttools>=4.22.0 in /home/vscode/.local/lib/python3.10/site-packages (from matplotlib->missingno) (4.53.1)\n",
                        "Requirement already satisfied: kiwisolver>=1.3.1 in /home/vscode/.local/lib/python3.10/site-packages (from matplotlib->missingno) (1.4.7)\n",
                        "Requirement already satisfied: packaging>=20.0 in /home/vscode/.local/lib/python3.10/site-packages (from matplotlib->missingno) (24.1)\n",
                        "Requirement already satisfied: pillow>=8 in /home/vscode/.local/lib/python3.10/site-packages (from matplotlib->missingno) (10.4.0)\n",
                        "Requirement already satisfied: pyparsing>=2.3.1 in /home/vscode/.local/lib/python3.10/site-packages (from matplotlib->missingno) (3.1.4)\n",
                        "Requirement already satisfied: python-dateutil>=2.7 in /home/vscode/.local/lib/python3.10/site-packages (from matplotlib->missingno) (2.9.0.post0)\n",
                        "Requirement already satisfied: pytz>=2020.1 in /home/vscode/.local/lib/python3.10/site-packages (from pandas->lazypredict) (2024.2)\n",
                        "Requirement already satisfied: tzdata>=2022.7 in /home/vscode/.local/lib/python3.10/site-packages (from pandas->lazypredict) (2024.1)\n",
                        "Requirement already satisfied: threadpoolctl>=3.1.0 in /home/vscode/.local/lib/python3.10/site-packages (from scikit-learn->lazypredict) (3.5.0)\n",
                        "Requirement already satisfied: nvidia-nccl-cu12 in /home/vscode/.local/lib/python3.10/site-packages (from xgboost->lazypredict) (2.22.3)\n",
                        "Requirement already satisfied: six>=1.5 in /home/vscode/.local/lib/python3.10/site-packages (from python-dateutil>=2.7->matplotlib->missingno) (1.16.0)\n",
                        "Defaulting to user installation because normal site-packages is not writeable\n",
                        "Requirement already satisfied: statsmodels in /home/vscode/.local/lib/python3.10/site-packages (0.14.2)\n",
                        "Requirement already satisfied: numpy>=1.22.3 in /home/vscode/.local/lib/python3.10/site-packages (from statsmodels) (2.1.1)\n",
                        "Requirement already satisfied: scipy!=1.9.2,>=1.8 in /home/vscode/.local/lib/python3.10/site-packages (from statsmodels) (1.14.1)\n",
                        "Requirement already satisfied: pandas!=2.1.0,>=1.4 in /home/vscode/.local/lib/python3.10/site-packages (from statsmodels) (2.2.2)\n",
                        "Requirement already satisfied: patsy>=0.5.6 in /home/vscode/.local/lib/python3.10/site-packages (from statsmodels) (0.5.6)\n",
                        "Requirement already satisfied: packaging>=21.3 in /home/vscode/.local/lib/python3.10/site-packages (from statsmodels) (24.1)\n",
                        "Requirement already satisfied: python-dateutil>=2.8.2 in /home/vscode/.local/lib/python3.10/site-packages (from pandas!=2.1.0,>=1.4->statsmodels) (2.9.0.post0)\n",
                        "Requirement already satisfied: pytz>=2020.1 in /home/vscode/.local/lib/python3.10/site-packages (from pandas!=2.1.0,>=1.4->statsmodels) (2024.2)\n",
                        "Requirement already satisfied: tzdata>=2022.7 in /home/vscode/.local/lib/python3.10/site-packages (from pandas!=2.1.0,>=1.4->statsmodels) (2024.1)\n",
                        "Requirement already satisfied: six in /home/vscode/.local/lib/python3.10/site-packages (from patsy>=0.5.6->statsmodels) (1.16.0)\n",
                        "Defaulting to user installation because normal site-packages is not writeable\n",
                        "Requirement already satisfied: pmdarima in /home/vscode/.local/lib/python3.10/site-packages (2.0.4)\n",
                        "Requirement already satisfied: joblib>=0.11 in /home/vscode/.local/lib/python3.10/site-packages (from pmdarima) (1.4.2)\n",
                        "Requirement already satisfied: Cython!=0.29.18,!=0.29.31,>=0.29 in /home/vscode/.local/lib/python3.10/site-packages (from pmdarima) (3.0.11)\n",
                        "Requirement already satisfied: numpy>=1.21.2 in /home/vscode/.local/lib/python3.10/site-packages (from pmdarima) (2.1.1)\n",
                        "Requirement already satisfied: pandas>=0.19 in /home/vscode/.local/lib/python3.10/site-packages (from pmdarima) (2.2.2)\n",
                        "Requirement already satisfied: scikit-learn>=0.22 in /home/vscode/.local/lib/python3.10/site-packages (from pmdarima) (1.5.2)\n",
                        "Requirement already satisfied: scipy>=1.3.2 in /home/vscode/.local/lib/python3.10/site-packages (from pmdarima) (1.14.1)\n",
                        "Requirement already satisfied: statsmodels>=0.13.2 in /home/vscode/.local/lib/python3.10/site-packages (from pmdarima) (0.14.2)\n",
                        "Requirement already satisfied: urllib3 in /home/vscode/.local/lib/python3.10/site-packages (from pmdarima) (2.2.3)\n",
                        "Requirement already satisfied: setuptools!=50.0.0,>=38.6.0 in /usr/local/lib/python3.10/site-packages (from pmdarima) (67.8.0)\n",
                        "Requirement already satisfied: packaging>=17.1 in /home/vscode/.local/lib/python3.10/site-packages (from pmdarima) (24.1)\n",
                        "Requirement already satisfied: python-dateutil>=2.8.2 in /home/vscode/.local/lib/python3.10/site-packages (from pandas>=0.19->pmdarima) (2.9.0.post0)\n",
                        "Requirement already satisfied: pytz>=2020.1 in /home/vscode/.local/lib/python3.10/site-packages (from pandas>=0.19->pmdarima) (2024.2)\n",
                        "Requirement already satisfied: tzdata>=2022.7 in /home/vscode/.local/lib/python3.10/site-packages (from pandas>=0.19->pmdarima) (2024.1)\n",
                        "Requirement already satisfied: threadpoolctl>=3.1.0 in /home/vscode/.local/lib/python3.10/site-packages (from scikit-learn>=0.22->pmdarima) (3.5.0)\n",
                        "Requirement already satisfied: patsy>=0.5.6 in /home/vscode/.local/lib/python3.10/site-packages (from statsmodels>=0.13.2->pmdarima) (0.5.6)\n",
                        "Requirement already satisfied: six in /home/vscode/.local/lib/python3.10/site-packages (from patsy>=0.5.6->statsmodels>=0.13.2->pmdarima) (1.16.0)\n"
                    ]
                }
            ],
            "source": [
                "!pip install missingno lazypredict\n",
                "!pip install statsmodels\n",
                "!pip install pmdarima\n"
            ]
        },
        {
            "cell_type": "code",
            "execution_count": 77,
            "metadata": {},
            "outputs": [],
            "source": [
                "import pandas as pd\n",
                "import numpy as np\n",
                "import matplotlib.pyplot as plt\n",
                "from statsmodels.tsa.seasonal import seasonal_decompose\n",
                "import seaborn as sns\n",
                "from statsmodels.tsa.stattools import adfuller\n",
                "from statsmodels.tsa.arima.model import ARIMA\n",
                "from statsmodels.graphics.tsaplots import plot_acf, plot_pacf\n",
                "import itertools\n",
                "from sklearn.metrics import mean_squared_error\n",
                "from sklearn.metrics import mean_squared_error, mean_absolute_error\n"
            ]
        },
        {
            "cell_type": "markdown",
            "metadata": {},
            "source": [
                "1. Carga del conjunto de datos."
            ]
        },
        {
            "cell_type": "code",
            "execution_count": 47,
            "metadata": {},
            "outputs": [
                {
                    "name": "stdout",
                    "output_type": "stream",
                    "text": [
                        "<class 'pandas.core.frame.DataFrame'>\n",
                        "RangeIndex: 366 entries, 0 to 365\n",
                        "Data columns (total 2 columns):\n",
                        " #   Column  Non-Null Count  Dtype  \n",
                        "---  ------  --------------  -----  \n",
                        " 0   date    366 non-null    object \n",
                        " 1   sales   366 non-null    float64\n",
                        "dtypes: float64(1), object(1)\n",
                        "memory usage: 5.8+ KB\n"
                    ]
                }
            ],
            "source": [
                "# Descargo los datos base datos \"sales\":\n",
                "\n",
                "# Leo los datos de la URL.\n",
                "url = \"https://raw.githubusercontent.com/4GeeksAcademy/alternative-time-series-project/main/sales.csv\"\n",
                "\n",
                "# Guardo los datos en un DataFrame. La BD tiene 366 filas y 2 columnas.\n",
                "df = pd.read_csv(url)\n",
                "\n",
                "# Miro las variables de la bd.\n",
                "df.info()"
            ]
        },
        {
            "cell_type": "code",
            "execution_count": 48,
            "metadata": {},
            "outputs": [
                {
                    "data": {
                        "text/html": [
                            "<div>\n",
                            "<style scoped>\n",
                            "    .dataframe tbody tr th:only-of-type {\n",
                            "        vertical-align: middle;\n",
                            "    }\n",
                            "\n",
                            "    .dataframe tbody tr th {\n",
                            "        vertical-align: top;\n",
                            "    }\n",
                            "\n",
                            "    .dataframe thead th {\n",
                            "        text-align: right;\n",
                            "    }\n",
                            "</style>\n",
                            "<table border=\"1\" class=\"dataframe\">\n",
                            "  <thead>\n",
                            "    <tr style=\"text-align: right;\">\n",
                            "      <th></th>\n",
                            "      <th>date</th>\n",
                            "      <th>sales</th>\n",
                            "    </tr>\n",
                            "  </thead>\n",
                            "  <tbody>\n",
                            "    <tr>\n",
                            "      <th>0</th>\n",
                            "      <td>2022-09-03 17:10:08.079328</td>\n",
                            "      <td>55.292157</td>\n",
                            "    </tr>\n",
                            "    <tr>\n",
                            "      <th>1</th>\n",
                            "      <td>2022-09-04 17:10:08.079328</td>\n",
                            "      <td>53.803211</td>\n",
                            "    </tr>\n",
                            "    <tr>\n",
                            "      <th>2</th>\n",
                            "      <td>2022-09-05 17:10:08.079328</td>\n",
                            "      <td>58.141693</td>\n",
                            "    </tr>\n",
                            "    <tr>\n",
                            "      <th>3</th>\n",
                            "      <td>2022-09-06 17:10:08.079328</td>\n",
                            "      <td>64.530899</td>\n",
                            "    </tr>\n",
                            "    <tr>\n",
                            "      <th>4</th>\n",
                            "      <td>2022-09-07 17:10:08.079328</td>\n",
                            "      <td>66.013633</td>\n",
                            "    </tr>\n",
                            "  </tbody>\n",
                            "</table>\n",
                            "</div>"
                        ],
                        "text/plain": [
                            "                         date      sales\n",
                            "0  2022-09-03 17:10:08.079328  55.292157\n",
                            "1  2022-09-04 17:10:08.079328  53.803211\n",
                            "2  2022-09-05 17:10:08.079328  58.141693\n",
                            "3  2022-09-06 17:10:08.079328  64.530899\n",
                            "4  2022-09-07 17:10:08.079328  66.013633"
                        ]
                    },
                    "execution_count": 48,
                    "metadata": {},
                    "output_type": "execute_result"
                }
            ],
            "source": [
                "df.head()\n",
                "#df.tail()"
            ]
        },
        {
            "cell_type": "markdown",
            "metadata": {},
            "source": [
                "2. Construye y analiza la serie temporal."
            ]
        },
        {
            "cell_type": "code",
            "execution_count": 49,
            "metadata": {},
            "outputs": [
                {
                    "data": {
                        "text/plain": [
                            "date      object\n",
                            "sales    float64\n",
                            "dtype: object"
                        ]
                    },
                    "execution_count": 49,
                    "metadata": {},
                    "output_type": "execute_result"
                }
            ],
            "source": [
                "df.dtypes"
            ]
        },
        {
            "cell_type": "code",
            "execution_count": 50,
            "metadata": {},
            "outputs": [
                {
                    "data": {
                        "text/plain": [
                            "date     0\n",
                            "sales    0\n",
                            "dtype: int64"
                        ]
                    },
                    "execution_count": 50,
                    "metadata": {},
                    "output_type": "execute_result"
                }
            ],
            "source": [
                "df.isna().sum()"
            ]
        },
        {
            "cell_type": "code",
            "execution_count": 51,
            "metadata": {},
            "outputs": [
                {
                    "data": {
                        "text/plain": [
                            "np.int64(0)"
                        ]
                    },
                    "execution_count": 51,
                    "metadata": {},
                    "output_type": "execute_result"
                }
            ],
            "source": [
                "df.duplicated().sum()"
            ]
        },
        {
            "cell_type": "markdown",
            "metadata": {},
            "source": [
                "No hay valores duplicados."
            ]
        },
        {
            "cell_type": "code",
            "execution_count": 52,
            "metadata": {},
            "outputs": [
                {
                    "name": "stderr",
                    "output_type": "stream",
                    "text": [
                        "/tmp/ipykernel_740/3175655761.py:1: UserWarning: Pandas doesn't allow columns to be created via a new attribute name - see https://pandas.pydata.org/pandas-docs/stable/indexing.html#attribute-access\n",
                        "  df.Date = pd.to_datetime(df.date)\n"
                    ]
                },
                {
                    "data": {
                        "text/plain": [
                            "date      object\n",
                            "sales    float64\n",
                            "dtype: object"
                        ]
                    },
                    "execution_count": 52,
                    "metadata": {},
                    "output_type": "execute_result"
                }
            ],
            "source": [
                "df.Date = pd.to_datetime(df.date)\n",
                "df.dtypes"
            ]
        },
        {
            "cell_type": "code",
            "execution_count": 53,
            "metadata": {},
            "outputs": [
                {
                    "data": {
                        "text/plain": [
                            "'2023-09-03 17:10:08.079328'"
                        ]
                    },
                    "execution_count": 53,
                    "metadata": {},
                    "output_type": "execute_result"
                }
            ],
            "source": [
                "df.date.max()"
            ]
        },
        {
            "cell_type": "code",
            "execution_count": 54,
            "metadata": {},
            "outputs": [
                {
                    "data": {
                        "text/plain": [
                            "'2022-09-03 17:10:08.079328'"
                        ]
                    },
                    "execution_count": 54,
                    "metadata": {},
                    "output_type": "execute_result"
                }
            ],
            "source": [
                "df.date.min()"
            ]
        },
        {
            "cell_type": "code",
            "execution_count": 55,
            "metadata": {},
            "outputs": [
                {
                    "data": {
                        "text/plain": [
                            "365"
                        ]
                    },
                    "execution_count": 55,
                    "metadata": {},
                    "output_type": "execute_result"
                }
            ],
            "source": [
                "(df.Date.max()-df.Date.min()).days"
            ]
        },
        {
            "cell_type": "markdown",
            "metadata": {},
            "source": [
                "Hay 365 días "
            ]
        },
        {
            "cell_type": "code",
            "execution_count": 56,
            "metadata": {},
            "outputs": [
                {
                    "data": {
                        "text/plain": [
                            "366"
                        ]
                    },
                    "execution_count": 56,
                    "metadata": {},
                    "output_type": "execute_result"
                }
            ],
            "source": [
                "df.date.nunique()"
            ]
        },
        {
            "cell_type": "markdown",
            "metadata": {},
            "source": [
                "No hay valores faltantes en las fechas."
            ]
        },
        {
            "cell_type": "code",
            "execution_count": 57,
            "metadata": {},
            "outputs": [
                {
                    "data": {
                        "text/plain": [
                            "[<matplotlib.lines.Line2D at 0x7911933168c0>]"
                        ]
                    },
                    "execution_count": 57,
                    "metadata": {},
                    "output_type": "execute_result"
                },
                {
                    "data": {
                        "image/png": "[encoded data removed]",
                        "text/plain": [
                            "<Figure size 640x480 with 1 Axes>"
                        ]
                    },
                    "metadata": {},
                    "output_type": "display_data"
                }
            ],
            "source": [
                "# Gráfico serie temporal\n",
                "plt.plot(df.date, df.sales)"
            ]
        },
        {
            "cell_type": "code",
            "execution_count": 58,
            "metadata": {},
            "outputs": [
                {
                    "ename": "TypeError",
                    "evalue": "unsupported operand type(s) for -: 'str' and 'str'",
                    "output_type": "error",
                    "traceback": [
                        "\u001b[0;31m---------------------------------------------------------------------------\u001b[0m",
                        "\u001b[0;31mTypeError\u001b[0m                                 Traceback (most recent call last)",
                        "Cell \u001b[0;32mIn[58], line 4\u001b[0m\n\u001b[1;32m      1\u001b[0m \u001b[38;5;66;03m# Tensor de la serie temporal: Unidad de tiempo mínima para la cual hay datos.\u001b[39;00m\n\u001b[1;32m      2\u001b[0m \n\u001b[1;32m      3\u001b[0m \u001b[38;5;66;03m# Calculo las diferencias de tiempo entre cada fila.\u001b[39;00m\n\u001b[0;32m----> 4\u001b[0m df[\u001b[38;5;124m'\u001b[39m\u001b[38;5;124mtime_diff\u001b[39m\u001b[38;5;124m'\u001b[39m] \u001b[38;5;241m=\u001b[39m \u001b[43mdf\u001b[49m\u001b[43m[\u001b[49m\u001b[38;5;124;43m'\u001b[39;49m\u001b[38;5;124;43mdate\u001b[39;49m\u001b[38;5;124;43m'\u001b[39;49m\u001b[43m]\u001b[49m\u001b[38;5;241;43m.\u001b[39;49m\u001b[43mdiff\u001b[49m\u001b[43m(\u001b[49m\u001b[43m)\u001b[49m\n\u001b[1;32m      6\u001b[0m \u001b[38;5;66;03m# Encuentro la diferencia mínima de tiempo (la unidad de tiempo mínima).\u001b[39;00m\n\u001b[1;32m      7\u001b[0m min_time_diff \u001b[38;5;241m=\u001b[39m df[\u001b[38;5;124m'\u001b[39m\u001b[38;5;124mtime_diff\u001b[39m\u001b[38;5;124m'\u001b[39m]\u001b[38;5;241m.\u001b[39mmin()\n",
                        "File \u001b[0;32m~/.local/lib/python3.10/site-packages/pandas/core/series.py:3120\u001b[0m, in \u001b[0;36mSeries.diff\u001b[0;34m(self, periods)\u001b[0m\n\u001b[1;32m   3035\u001b[0m \u001b[38;5;129m@doc\u001b[39m(\n\u001b[1;32m   3036\u001b[0m     klass\u001b[38;5;241m=\u001b[39m\u001b[38;5;124m\"\u001b[39m\u001b[38;5;124mSeries\u001b[39m\u001b[38;5;124m\"\u001b[39m,\n\u001b[1;32m   3037\u001b[0m     extra_params\u001b[38;5;241m=\u001b[39m\u001b[38;5;124m\"\u001b[39m\u001b[38;5;124m\"\u001b[39m,\n\u001b[0;32m   (...)\u001b[0m\n\u001b[1;32m   3083\u001b[0m )\n\u001b[1;32m   3084\u001b[0m \u001b[38;5;28;01mdef\u001b[39;00m \u001b[38;5;21mdiff\u001b[39m(\u001b[38;5;28mself\u001b[39m, periods: \u001b[38;5;28mint\u001b[39m \u001b[38;5;241m=\u001b[39m \u001b[38;5;241m1\u001b[39m) \u001b[38;5;241m-\u001b[39m\u001b[38;5;241m>\u001b[39m Series:\n\u001b[1;32m   3085\u001b[0m \u001b[38;5;250m    \u001b[39m\u001b[38;5;124;03m\"\"\"\u001b[39;00m\n\u001b[1;32m   3086\u001b[0m \u001b[38;5;124;03m    First discrete difference of element.\u001b[39;00m\n\u001b[1;32m   3087\u001b[0m \n\u001b[0;32m   (...)\u001b[0m\n\u001b[1;32m   3118\u001b[0m \u001b[38;5;124;03m    {examples}\u001b[39;00m\n\u001b[1;32m   3119\u001b[0m \u001b[38;5;124;03m    \"\"\"\u001b[39;00m\n\u001b[0;32m-> 3120\u001b[0m     result \u001b[38;5;241m=\u001b[39m \u001b[43malgorithms\u001b[49m\u001b[38;5;241;43m.\u001b[39;49m\u001b[43mdiff\u001b[49m\u001b[43m(\u001b[49m\u001b[38;5;28;43mself\u001b[39;49m\u001b[38;5;241;43m.\u001b[39;49m\u001b[43m_values\u001b[49m\u001b[43m,\u001b[49m\u001b[43m \u001b[49m\u001b[43mperiods\u001b[49m\u001b[43m)\u001b[49m\n\u001b[1;32m   3121\u001b[0m     \u001b[38;5;28;01mreturn\u001b[39;00m \u001b[38;5;28mself\u001b[39m\u001b[38;5;241m.\u001b[39m_constructor(result, index\u001b[38;5;241m=\u001b[39m\u001b[38;5;28mself\u001b[39m\u001b[38;5;241m.\u001b[39mindex, copy\u001b[38;5;241m=\u001b[39m\u001b[38;5;28;01mFalse\u001b[39;00m)\u001b[38;5;241m.\u001b[39m__finalize__(\n\u001b[1;32m   3122\u001b[0m         \u001b[38;5;28mself\u001b[39m, method\u001b[38;5;241m=\u001b[39m\u001b[38;5;124m\"\u001b[39m\u001b[38;5;124mdiff\u001b[39m\u001b[38;5;124m\"\u001b[39m\n\u001b[1;32m   3123\u001b[0m     )\n",
                        "File \u001b[0;32m~/.local/lib/python3.10/site-packages/pandas/core/algorithms.py:1435\u001b[0m, in \u001b[0;36mdiff\u001b[0;34m(arr, n, axis)\u001b[0m\n\u001b[1;32m   1432\u001b[0m     _lag_indexer[axis] \u001b[38;5;241m=\u001b[39m \u001b[38;5;28mslice\u001b[39m(\u001b[38;5;28;01mNone\u001b[39;00m, \u001b[38;5;241m-\u001b[39mn) \u001b[38;5;28;01mif\u001b[39;00m n \u001b[38;5;241m>\u001b[39m \u001b[38;5;241m0\u001b[39m \u001b[38;5;28;01melse\u001b[39;00m \u001b[38;5;28mslice\u001b[39m(\u001b[38;5;241m-\u001b[39mn, \u001b[38;5;28;01mNone\u001b[39;00m)\n\u001b[1;32m   1433\u001b[0m     lag_indexer \u001b[38;5;241m=\u001b[39m \u001b[38;5;28mtuple\u001b[39m(_lag_indexer)\n\u001b[0;32m-> 1435\u001b[0m     out_arr[res_indexer] \u001b[38;5;241m=\u001b[39m \u001b[43mop\u001b[49m\u001b[43m(\u001b[49m\u001b[43marr\u001b[49m\u001b[43m[\u001b[49m\u001b[43mres_indexer\u001b[49m\u001b[43m]\u001b[49m\u001b[43m,\u001b[49m\u001b[43m \u001b[49m\u001b[43marr\u001b[49m\u001b[43m[\u001b[49m\u001b[43mlag_indexer\u001b[49m\u001b[43m]\u001b[49m\u001b[43m)\u001b[49m\n\u001b[1;32m   1437\u001b[0m \u001b[38;5;28;01mif\u001b[39;00m is_timedelta:\n\u001b[1;32m   1438\u001b[0m     out_arr \u001b[38;5;241m=\u001b[39m out_arr\u001b[38;5;241m.\u001b[39mview(\u001b[38;5;124m\"\u001b[39m\u001b[38;5;124mtimedelta64[ns]\u001b[39m\u001b[38;5;124m\"\u001b[39m)\n",
                        "\u001b[0;31mTypeError\u001b[0m: unsupported operand type(s) for -: 'str' and 'str'"
                    ]
                }
            ],
            "source": [
                "# Tensor de la serie temporal: Unidad de tiempo mínima para la cual hay datos.\n",
                "\n",
                "# Calculo las diferencias de tiempo entre cada fila.\n",
                "df['time_diff'] = df['date'].diff()\n",
                "\n",
                "# Encuentro la diferencia mínima de tiempo (la unidad de tiempo mínima).\n",
                "min_time_diff = df['time_diff'].min()\n",
                "\n",
                "print(\"El tensor de la serie temporal (unidad mínima de tiempo) es:\", min_time_diff)\n",
                "\n"
            ]
        },
        {
            "cell_type": "code",
            "execution_count": null,
            "metadata": {},
            "outputs": [],
            "source": [
                "# Descomponer la serie temporal.\n",
                "decomposition = seasonal_decompose(df.sales, period = 12)\n",
                "decomposition\n"
            ]
        },
        {
            "cell_type": "code",
            "execution_count": null,
            "metadata": {},
            "outputs": [],
            "source": [
                "# Tendencia.\n",
                "trend = decomposition.trend\n",
                "\n",
                "fig, axis = plt.subplots(figsize = (10, 5))\n",
                "\n",
                "sns.lineplot(data = df.sales)\n",
                "sns.lineplot(data = trend)\n",
                "\n",
                "plt.tight_layout()\n",
                "\n",
                "plt.show()"
            ]
        },
        {
            "cell_type": "markdown",
            "metadata": {},
            "source": [
                "La serie temporal tiene una tendencia ascendente."
            ]
        },
        {
            "cell_type": "code",
            "execution_count": null,
            "metadata": {},
            "outputs": [],
            "source": [
                "# Estacionalidad.\n",
                "seasonal = decomposition.seasonal\n",
                "\n",
                "fig, axis = plt.subplots(figsize = (10, 5))\n",
                "\n",
                "sns.lineplot(data = df.sales)\n",
                "sns.lineplot(data = seasonal)\n",
                "\n",
                "plt.tight_layout()\n",
                "\n",
                "plt.show()"
            ]
        },
        {
            "cell_type": "code",
            "execution_count": null,
            "metadata": {},
            "outputs": [],
            "source": [
                "def test_stationarity(timeseries):\n",
                "    print(\"Resultados de la prueba de Dickey-Fuller:\")\n",
                "    dftest = adfuller(timeseries, autolag = \"AIC\")\n",
                "    dfoutput = pd.Series(dftest[0:4], index = [\"Test Statistic\", \"p-value\", \"#Lags Used\", \"Number of Observations Used\"])\n",
                "    for key,value in dftest[4].items():\n",
                "        dfoutput[\"Critical Value (%s)\"%key] = value\n",
                "    return dfoutput\n",
                "\n",
                "test_stationarity(df.sales)"
            ]
        },
        {
            "cell_type": "markdown",
            "metadata": {},
            "source": [
                "No podemos rechazar la H0. Por lo tanto, la serie es estacionaria."
            ]
        },
        {
            "cell_type": "code",
            "execution_count": null,
            "metadata": {},
            "outputs": [],
            "source": [
                "# Análisis variabilidad.\n",
                "residual = decomposition.resid\n",
                "\n",
                "fig, axis = plt.subplots(figsize = (10, 5))\n",
                "\n",
                "sns.lineplot(data = df.sales)\n",
                "sns.lineplot(data = residual)\n",
                "\n",
                "plt.tight_layout()\n",
                "\n",
                "plt.show()"
            ]
        },
        {
            "cell_type": "markdown",
            "metadata": {},
            "source": [
                "3. Modelo ARIMA."
            ]
        },
        {
            "cell_type": "markdown",
            "metadata": {},
            "source": [
                "Como la serie es estacionaria no tengo que transformarla."
            ]
        },
        {
            "cell_type": "markdown",
            "metadata": {},
            "source": [
                "Nota para Félix: He intentado instalar la librería pmdarima pero me da error. He intentado solventarlo de diferentes maneras, pero no lo he conseguido. Ante esta situación, he buscado librerías alternativas para poder estimar un modelo ARIMA."
            ]
        },
        {
            "cell_type": "code",
            "execution_count": 65,
            "metadata": {},
            "outputs": [
                {
                    "name": "stdout",
                    "output_type": "stream",
                    "text": [
                        "ARIMA(0, 0, 0) MSE=229514.09848306564\n",
                        "ARIMA(0, 0, 1) MSE=227814.9727612115\n",
                        "ARIMA(0, 0, 2) MSE=227272.5298252427\n",
                        "ARIMA(0, 1, 0) MSE=12812.113627317478\n",
                        "ARIMA(0, 1, 1) MSE=12854.466716781824\n",
                        "ARIMA(0, 1, 2) MSE=13052.591218139389\n",
                        "ARIMA(0, 2, 0) MSE=339.77545784342624\n",
                        "ARIMA(0, 2, 1) MSE=11.476820738535444\n",
                        "ARIMA(0, 2, 2) MSE=30.09657499860414\n",
                        "ARIMA(1, 0, 0) MSE=13145.52993624097\n",
                        "ARIMA(1, 0, 1) MSE=13021.471107273519\n",
                        "ARIMA(1, 0, 2) MSE=13379.035597842101\n",
                        "ARIMA(1, 1, 0) MSE=12879.426821710964\n",
                        "ARIMA(1, 1, 1) MSE=16.492117306542024\n",
                        "ARIMA(1, 1, 2) MSE=28.838859426638656\n",
                        "ARIMA(1, 2, 0) MSE=8559.901482316778\n",
                        "ARIMA(1, 2, 1) MSE=11.43953259795855\n",
                        "ARIMA(1, 2, 2) MSE=7.965156531181016\n",
                        "ARIMA(2, 0, 0) MSE=13137.422985911784\n",
                        "ARIMA(2, 0, 1) MSE=13175.765754238124\n",
                        "ARIMA(2, 1, 0) MSE=12890.302930421765\n",
                        "ARIMA(2, 1, 1) MSE=12.710343246536675\n",
                        "ARIMA(2, 1, 2) MSE=8.87517168224903\n",
                        "ARIMA(2, 2, 0) MSE=6407.943847338072\n",
                        "ARIMA(2, 2, 1) MSE=8.277271391859117\n",
                        "ARIMA(2, 2, 2) MSE=7.981371306893933\n",
                        "Mejor modelo ARIMA(1, 2, 2) con Mean Squared Error (MSE) igual a 7.965156531181016\n"
                    ]
                }
            ],
            "source": [
                "# Preparo las variables\n",
                "p = d = q = range(0, 3)  # Nota: Son los posibles valores para p, d, q \n",
                "pdq = list(itertools.product(p, d, q))  \n",
                "\n",
                "# Defino una función para ajustar un modelo ARIMA con diferentes combinaciones y que devuelva el mejor modelo.\n",
                "def evaluate_arima_model(X, arima_order):\n",
                "    train_size = int(len(X) * 0.8)\n",
                "    train, test = X[0:train_size], X[train_size:]\n",
                "    \n",
                "    model = ARIMA(train, order=arima_order)\n",
                "    model_fit = model.fit()\n",
                "    \n",
                "    # Pronósticos.\n",
                "    predictions = model_fit.forecast(steps=len(test))\n",
                "    error = mean_squared_error(test, predictions)\n",
                "    return error\n",
                "\n",
                "# Pruebo todas las combinaciones de p, d, q. Guardo el mejor modelo.\n",
                "best_score, best_cfg = float(\"inf\"), None\n",
                "for param in pdq:\n",
                "    try:\n",
                "        mse = evaluate_arima_model(df['sales'], param)\n",
                "        if mse < best_score:\n",
                "            best_score, best_cfg = mse, param\n",
                "        print(f'ARIMA{param} MSE={mse}')\n",
                "    except:\n",
                "        continue\n",
                "\n",
                "print(f'Mejor modelo ARIMA {best_cfg} con Mean Squared Error (MSE) igual a {best_score}')\n"
            ]
        },
        {
            "cell_type": "code",
            "execution_count": 66,
            "metadata": {},
            "outputs": [
                {
                    "name": "stdout",
                    "output_type": "stream",
                    "text": [
                        "                               SARIMAX Results                                \n",
                        "==============================================================================\n",
                        "Dep. Variable:                  sales   No. Observations:                  366\n",
                        "Model:                 ARIMA(1, 2, 2)   Log Likelihood                -919.511\n",
                        "Date:                Fri, 13 Sep 2024   AIC                           1847.023\n",
                        "Time:                        13:00:21   BIC                           1862.611\n",
                        "Sample:                             0   HQIC                          1853.218\n",
                        "                                - 366                                         \n",
                        "Covariance Type:                  opg                                         \n",
                        "==============================================================================\n",
                        "                 coef    std err          z      P>|z|      [0.025      0.975]\n",
                        "------------------------------------------------------------------------------\n",
                        "ar.L1         -0.0890      0.052     -1.697      0.090      -0.192       0.014\n",
                        "ma.L1         -1.9313      0.552     -3.501      0.000      -3.013      -0.850\n",
                        "ma.L2          0.9313      0.513      1.816      0.069      -0.074       1.937\n",
                        "sigma2         8.8236      4.876      1.810      0.070      -0.733      18.380\n",
                        "===================================================================================\n",
                        "Ljung-Box (L1) (Q):                   0.02   Jarque-Bera (JB):                 1.36\n",
                        "Prob(Q):                              0.90   Prob(JB):                         0.51\n",
                        "Heteroskedasticity (H):               0.91   Skew:                             0.07\n",
                        "Prob(H) (two-sided):                  0.61   Kurtosis:                         2.74\n",
                        "===================================================================================\n",
                        "\n",
                        "Warnings:\n",
                        "[1] Covariance matrix calculated using the outer product of gradients (complex-step).\n"
                    ]
                }
            ],
            "source": [
                "# Mdelo ARIMA con los mejores hiperparámetros calculados en el paso anterior.\n",
                "model = ARIMA(df['sales'], order=best_cfg)\n",
                "model_fit = model.fit()\n",
                "print(model_fit.summary())"
            ]
        },
        {
            "cell_type": "markdown",
            "metadata": {},
            "source": [
                "4. Predicción del modelo con el conjunto test."
            ]
        },
        {
            "cell_type": "code",
            "execution_count": 73,
            "metadata": {},
            "outputs": [],
            "source": [
                "# Dividir los datos en conjunto de entrenamiento y prueba (80% entrenamiento, 20% prueba)\n",
                "train_size = int(len(df) * 0.8)\n",
                "train, test = df['sales'][0:train_size], df['sales'][train_size:]"
            ]
        },
        {
            "cell_type": "code",
            "execution_count": 74,
            "metadata": {},
            "outputs": [],
            "source": [
                "# Ajustar el modelo ARIMA con los mejores hiperparámetros\n",
                "best_cfg = (1, 2, 2)  # Reemplaza con los mejores hiperparámetros que obtuviste\n",
                "model = ARIMA(train, order=best_cfg)\n",
                "model_fit = model.fit()"
            ]
        },
        {
            "cell_type": "code",
            "execution_count": 75,
            "metadata": {},
            "outputs": [],
            "source": [
                "# Predecir los valores en el conjunto de prueba\n",
                "forecast = model_fit.forecast(steps=len(test))"
            ]
        },
        {
            "cell_type": "code",
            "execution_count": 81,
            "metadata": {},
            "outputs": [
                {
                    "name": "stdout",
                    "output_type": "stream",
                    "text": [
                        "MSE: 7.965156531181016\n",
                        "RMSE: 2.822260889992457\n",
                        "MAE: 2.2684943682546064\n"
                    ]
                }
            ],
            "source": [
                "# Paso 3: Comparar las predicciones con los valores reales\n",
                "mse = mean_squared_error(test, forecast)\n",
                "rmse = np.sqrt(mse)\n",
                "mae = mean_absolute_error(test, forecast)\n",
                "\n",
                "print(f\"MSE: {mse}\")\n",
                "print(f\"RMSE: {rmse}\")\n",
                "print(f\"MAE: {mae}\")"
            ]
        },
        {
            "cell_type": "code",
            "execution_count": 79,
            "metadata": {},
            "outputs": [
                {
                    "data": {
                        "image/png": "[encoded data removed]",
                        "text/plain": [
                            "<Figure size 1000x600 with 1 Axes>"
                        ]
                    },
                    "metadata": {},
                    "output_type": "display_data"
                }
            ],
            "source": [
                "plt.figure(figsize=(10,6))\n",
                "plt.plot(train.index, train, label='Entrenamiento')\n",
                "plt.plot(test.index, test, label='Real')\n",
                "plt.plot(test.index, forecast, label='Predicción', linestyle='--')\n",
                "plt.title('Comparación de la Predicción vs Real en el Conjunto de Prueba')\n",
                "plt.xlabel('Fecha')\n",
                "plt.ylabel('Ventas')\n",
                "plt.legend()\n",
                "plt.show()"
            ]
        }
    ],
    "metadata": {
        "kernelspec": {
            "display_name": "Python 3.8.13 64-bit ('3.8.13')",
            "language": "python",
            "name": "python3"
        },
        "language_info": {
            "codemirror_mode": {
                "name": "ipython",
                "version": 3
            },
            "file_extension": ".py",
            "mimetype": "text/x-python",
            "name": "python",
            "nbconvert_exporter": "python",
            "pygments_lexer": "ipython3",
            "version": "3.10.12"
        },
        "orig_nbformat": 4,
        "vscode": {
            "interpreter": {
                "hash": "110cc1dee26208153f2972f08a2ad52b6a56238dc66d48e87fb757ef2996db56"
            }
        }
    },
    "nbformat": 4,
    "nbformat_minor": 2
}
